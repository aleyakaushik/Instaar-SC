{
 "metadata": {
  "name": "",
  "signature": "sha256:e57b7962b9446b7baca8882dced4d53d21da40c5e0b5a5c14284f9c4bcc483c1"
 },
 "nbformat": 3,
 "nbformat_minor": 0,
 "worksheets": [
  {
   "cells": [
    {
     "cell_type": "raw",
     "metadata": {},
     "source": [
      "## this is a bottom up design to begin with (write some script to load/extract data directly)\n",
      "\n",
      "## top down = starting with some kind of preformatted function\n",
      "\n",
      "## goal: max. rainfall for each site, some kind of graph/ markdown file like csv/text table.\n"
     ]
    },
    {
     "cell_type": "code",
     "collapsed": false,
     "input": [
      "!ls"
     ],
     "language": "python",
     "metadata": {},
     "outputs": [
      {
       "output_type": "stream",
       "stream": "stdout",
       "text": [
        "2013_precip.ipynb   Pandas.ipynb        \u001b[34mcsv_precip\u001b[m\u001b[m          simple_script.py\r\n",
        "Loops.ipynb         Scipy.ipynb         data analysis.ipynb \u001b[34mtxt_precip\u001b[m\u001b[m\r\n"
       ]
      }
     ],
     "prompt_number": 1
    },
    {
     "cell_type": "code",
     "collapsed": false,
     "input": [
      "cd txt_precip/"
     ],
     "language": "python",
     "metadata": {},
     "outputs": [
      {
       "output_type": "stream",
       "stream": "stdout",
       "text": [
        "/Users/aleyakaushik/SWC_Bootcamp/Instaar-SC/txt_precip\n"
       ]
      }
     ],
     "prompt_number": 2
    },
    {
     "cell_type": "code",
     "collapsed": false,
     "input": [
      "f = open('P0.txt')"
     ],
     "language": "python",
     "metadata": {},
     "outputs": [],
     "prompt_number": 3
    },
    {
     "cell_type": "code",
     "collapsed": false,
     "input": [
      "d = f.readlines()"
     ],
     "language": "python",
     "metadata": {},
     "outputs": [],
     "prompt_number": 4
    },
    {
     "cell_type": "code",
     "collapsed": false,
     "input": [
      "d[0]\n",
      "#\\r is carriage return for a Windows file"
     ],
     "language": "python",
     "metadata": {},
     "outputs": [
      {
       "metadata": {},
       "output_type": "pyout",
       "prompt_number": 5,
       "text": [
        "'stID,stName,Lat,Long,Elev,Network,stType,Precip_1h\\r\\n'"
       ]
      }
     ],
     "prompt_number": 5
    },
    {
     "cell_type": "code",
     "collapsed": false,
     "input": [
      "precipitation_data_match_string = 'precip'"
     ],
     "language": "python",
     "metadata": {},
     "outputs": [],
     "prompt_number": 6
    },
    {
     "cell_type": "raw",
     "metadata": {},
     "source": [
      "# assume that data is given to us in hourly format"
     ]
    },
    {
     "cell_type": "code",
     "collapsed": false,
     "input": [
      "file_delimiter = ','"
     ],
     "language": "python",
     "metadata": {},
     "outputs": [],
     "prompt_number": 8
    },
    {
     "cell_type": "code",
     "collapsed": false,
     "input": [
      "line=d[0]\n",
      "fields = line.split(file_delimiter)\n",
      "fields"
     ],
     "language": "python",
     "metadata": {},
     "outputs": [
      {
       "metadata": {},
       "output_type": "pyout",
       "prompt_number": 11,
       "text": [
        "['stID', 'stName', 'Lat', 'Long', 'Elev', 'Network', 'stType', 'Precip_1h\\r\\n']"
       ]
      }
     ],
     "prompt_number": 11
    },
    {
     "cell_type": "code",
     "collapsed": false,
     "input": [
      "matches = [precipitation_data_match_string in field.lower() for field in fields]\n",
      "matches\n",
      "# the word \"field\" is arbitrary, can be any word\n",
      "# this is what's called a List Comprehension (imp. parts: the \"for\" x \"in\" y - right part - \n",
      "#            then search for some condition - left part)"
     ],
     "language": "python",
     "metadata": {},
     "outputs": []
    },
    {
     "cell_type": "raw",
     "metadata": {},
     "source": [
      "# assume that precipitation_data_match_string is lower case"
     ]
    },
    {
     "cell_type": "code",
     "collapsed": false,
     "input": [
      "matches.index(True)"
     ],
     "language": "python",
     "metadata": {},
     "outputs": [
      {
       "metadata": {},
       "output_type": "pyout",
       "prompt_number": 16,
       "text": [
        "7"
       ]
      }
     ],
     "prompt_number": 16
    },
    {
     "cell_type": "code",
     "collapsed": false,
     "input": [
      "def get_precip_col (line, file_delimiter, precipitation_data_match_string):\n",
      "    fields = line.split(file_delimiter)\n",
      "    matches = [precipitation_data_match_string in field.lower() for field in fields]"
     ],
     "language": "python",
     "metadata": {},
     "outputs": [],
     "prompt_number": 17
    },
    {
     "cell_type": "code",
     "collapsed": false,
     "input": [
      "# slighlty better cos it's only applicable to the header line\n",
      "def get_precip_col (header_line, file_delimiter, precipitation_data_match_string):\n",
      "    fields = header_line.split(file_delimiter)\n",
      "    matches = [precipitation_data_match_string in field.lower() for field in fields]"
     ],
     "language": "python",
     "metadata": {},
     "outputs": []
    },
    {
     "cell_type": "code",
     "collapsed": false,
     "input": [
      "def get_data_col (header_line, file_delimiter, data_match_string):\n",
      "    \"\"\"Given a header line and delimiter find column in line that contains a match\n",
      "       for the data string\n",
      "       \n",
      "       Assumes: data_match_string is not case-sensitive\"\"\" # this is the documentation line for this function\n",
      "    fields = header_line.split(file_delimiter)\n",
      "    matches = [data_match_string.lower() in field.lower() for field in fields]\n",
      "    if sum(matches) < 1:\n",
      "        raise ValueError(\"Unable to find a %s column in %s\" % ( #line continuation not needed if line has (\n",
      "                         data_match_string, fields))\n",
      "    elif sum(matches) > 1:\n",
      "        raise ValueError(\"%s column is ambiguous in %s\" % (\n",
      "                          data_match_string, fields))\n",
      "    return matches.index(True)    "
     ],
     "language": "python",
     "metadata": {},
     "outputs": [],
     "prompt_number": 26
    },
    {
     "cell_type": "code",
     "collapsed": false,
     "input": [
      "get_data_col?"
     ],
     "language": "python",
     "metadata": {},
     "outputs": [],
     "prompt_number": 22
    },
    {
     "cell_type": "code",
     "collapsed": false,
     "input": [
      "get_data_col('Apples,Bananas,Cheerios',',','Cheerios')"
     ],
     "language": "python",
     "metadata": {},
     "outputs": [
      {
       "metadata": {},
       "output_type": "pyout",
       "prompt_number": 23,
       "text": [
        "2"
       ]
      }
     ],
     "prompt_number": 23
    },
    {
     "cell_type": "code",
     "collapsed": false,
     "input": [
      "get_data_col('Apples,Bananas,Cheerios,Chocolate Cheerios',',','Cheerios')"
     ],
     "language": "python",
     "metadata": {},
     "outputs": [
      {
       "ename": "ValueError",
       "evalue": "Cheerios column is ambiguous in ['Apples', 'Bananas', 'Cheerios', 'Chocolate Cheerios']",
       "output_type": "pyerr",
       "traceback": [
        "\u001b[0;31m---------------------------------------------------------------------------\u001b[0m\n\u001b[0;31mValueError\u001b[0m                                Traceback (most recent call last)",
        "\u001b[0;32m<ipython-input-24-1c9150a7810e>\u001b[0m in \u001b[0;36m<module>\u001b[0;34m()\u001b[0m\n\u001b[0;32m----> 1\u001b[0;31m \u001b[0mget_data_col\u001b[0m\u001b[0;34m(\u001b[0m\u001b[0;34m'Apples,Bananas,Cheerios,Chocolate Cheerios'\u001b[0m\u001b[0;34m,\u001b[0m\u001b[0;34m','\u001b[0m\u001b[0;34m,\u001b[0m\u001b[0;34m'Cheerios'\u001b[0m\u001b[0;34m)\u001b[0m\u001b[0;34m\u001b[0m\u001b[0m\n\u001b[0m",
        "\u001b[0;32m<ipython-input-21-eb3a0a115193>\u001b[0m in \u001b[0;36mget_data_col\u001b[0;34m(header_line, file_delimiter, data_match_string)\u001b[0m\n\u001b[1;32m     11\u001b[0m     \u001b[0;32melif\u001b[0m \u001b[0msum\u001b[0m\u001b[0;34m(\u001b[0m\u001b[0mmatches\u001b[0m\u001b[0;34m)\u001b[0m \u001b[0;34m>\u001b[0m \u001b[0;36m1\u001b[0m\u001b[0;34m:\u001b[0m\u001b[0;34m\u001b[0m\u001b[0m\n\u001b[1;32m     12\u001b[0m         raise ValueError(\"%s column is ambiguous in %s\" % (\n\u001b[0;32m---> 13\u001b[0;31m                           data_match_string, fields))\n\u001b[0m\u001b[1;32m     14\u001b[0m     \u001b[0;32mreturn\u001b[0m \u001b[0mmatches\u001b[0m\u001b[0;34m.\u001b[0m\u001b[0mindex\u001b[0m\u001b[0;34m(\u001b[0m\u001b[0mTrue\u001b[0m\u001b[0;34m)\u001b[0m\u001b[0;34m\u001b[0m\u001b[0m\n",
        "\u001b[0;31mValueError\u001b[0m: Cheerios column is ambiguous in ['Apples', 'Bananas', 'Cheerios', 'Chocolate Cheerios']"
       ]
      }
     ],
     "prompt_number": 24
    },
    {
     "cell_type": "code",
     "collapsed": false,
     "input": [
      "get_data_col('Apples,Bananas,Cheerios,Chocolate Cheerios',',','Ducks')"
     ],
     "language": "python",
     "metadata": {},
     "outputs": [
      {
       "ename": "ValueError",
       "evalue": "Unable to find a Ducks column in ['Apples', 'Bananas', 'Cheerios', 'Chocolate Cheerios']",
       "output_type": "pyerr",
       "traceback": [
        "\u001b[0;31m---------------------------------------------------------------------------\u001b[0m\n\u001b[0;31mValueError\u001b[0m                                Traceback (most recent call last)",
        "\u001b[0;32m<ipython-input-27-bc220051c003>\u001b[0m in \u001b[0;36m<module>\u001b[0;34m()\u001b[0m\n\u001b[0;32m----> 1\u001b[0;31m \u001b[0mget_data_col\u001b[0m\u001b[0;34m(\u001b[0m\u001b[0;34m'Apples,Bananas,Cheerios,Chocolate Cheerios'\u001b[0m\u001b[0;34m,\u001b[0m\u001b[0;34m','\u001b[0m\u001b[0;34m,\u001b[0m\u001b[0;34m'Ducks'\u001b[0m\u001b[0;34m)\u001b[0m\u001b[0;34m\u001b[0m\u001b[0m\n\u001b[0m",
        "\u001b[0;32m<ipython-input-26-b56da80637c4>\u001b[0m in \u001b[0;36mget_data_col\u001b[0;34m(header_line, file_delimiter, data_match_string)\u001b[0m\n\u001b[1;32m      8\u001b[0m     \u001b[0;32mif\u001b[0m \u001b[0msum\u001b[0m\u001b[0;34m(\u001b[0m\u001b[0mmatches\u001b[0m\u001b[0;34m)\u001b[0m \u001b[0;34m<\u001b[0m \u001b[0;36m1\u001b[0m\u001b[0;34m:\u001b[0m\u001b[0;34m\u001b[0m\u001b[0m\n\u001b[1;32m      9\u001b[0m         raise ValueError(\"Unable to find a %s column in %s\" % ( #line continuation not needed if line has (\n\u001b[0;32m---> 10\u001b[0;31m                          data_match_string, fields))\n\u001b[0m\u001b[1;32m     11\u001b[0m     \u001b[0;32melif\u001b[0m \u001b[0msum\u001b[0m\u001b[0;34m(\u001b[0m\u001b[0mmatches\u001b[0m\u001b[0;34m)\u001b[0m \u001b[0;34m>\u001b[0m \u001b[0;36m1\u001b[0m\u001b[0;34m:\u001b[0m\u001b[0;34m\u001b[0m\u001b[0m\n\u001b[1;32m     12\u001b[0m         raise ValueError(\"%s column is ambiguous in %s\" % (\n",
        "\u001b[0;31mValueError\u001b[0m: Unable to find a Ducks column in ['Apples', 'Bananas', 'Cheerios', 'Chocolate Cheerios']"
       ]
      }
     ],
     "prompt_number": 27
    },
    {
     "cell_type": "code",
     "collapsed": false,
     "input": [
      "fields"
     ],
     "language": "python",
     "metadata": {},
     "outputs": [
      {
       "metadata": {},
       "output_type": "pyout",
       "prompt_number": 28,
       "text": [
        "['stID', 'stName', 'Lat', 'Long', 'Elev', 'Network', 'stType', 'Precip_1h\\r\\n']"
       ]
      }
     ],
     "prompt_number": 28
    },
    {
     "cell_type": "code",
     "collapsed": false,
     "input": [],
     "language": "python",
     "metadata": {},
     "outputs": []
    }
   ],
   "metadata": {}
  }
 ]
}